{
  "nbformat": 4,
  "nbformat_minor": 0,
  "metadata": {
    "colab": {
      "provenance": [],
      "gpuType": "T4",
      "authorship_tag": "ABX9TyNSLI3KgSgFyn4ZZq5gZghO",
      "include_colab_link": true
    },
    "kernelspec": {
      "name": "python3",
      "display_name": "Python 3"
    },
    "language_info": {
      "name": "python"
    },
    "widgets": {
      "application/vnd.jupyter.widget-state+json": {
        "48c42f16f7ea4388b4f6183e8b348aa3": {
          "model_module": "@jupyter-widgets/controls",
          "model_name": "TextareaModel",
          "model_module_version": "1.5.0",
          "state": {
            "_dom_classes": [],
            "_model_module": "@jupyter-widgets/controls",
            "_model_module_version": "1.5.0",
            "_model_name": "TextareaModel",
            "_view_count": null,
            "_view_module": "@jupyter-widgets/controls",
            "_view_module_version": "1.5.0",
            "_view_name": "TextareaView",
            "continuous_update": true,
            "description": "Input:",
            "description_tooltip": null,
            "disabled": false,
            "layout": "IPY_MODEL_16f684aac1ea460eae8520ec6d4003b6",
            "placeholder": "Paste your text here...",
            "rows": null,
            "style": "IPY_MODEL_c96ea27dd9004e96a94655c57925b661",
            "value": "“I loved every bit of being in Pete Seeger’s frequency, and his acetic world and his music. It was a privilege,” Norton told CNN. “When you speak to people who knew him, the afterglow that people still have from him is quite moving.”"
          }
        },
        "16f684aac1ea460eae8520ec6d4003b6": {
          "model_module": "@jupyter-widgets/base",
          "model_name": "LayoutModel",
          "model_module_version": "1.2.0",
          "state": {
            "_model_module": "@jupyter-widgets/base",
            "_model_module_version": "1.2.0",
            "_model_name": "LayoutModel",
            "_view_count": null,
            "_view_module": "@jupyter-widgets/base",
            "_view_module_version": "1.2.0",
            "_view_name": "LayoutView",
            "align_content": null,
            "align_items": null,
            "align_self": null,
            "border": "3px solid lightgreen",
            "bottom": null,
            "display": null,
            "flex": null,
            "flex_flow": null,
            "grid_area": null,
            "grid_auto_columns": null,
            "grid_auto_flow": null,
            "grid_auto_rows": null,
            "grid_column": null,
            "grid_gap": null,
            "grid_row": null,
            "grid_template_areas": null,
            "grid_template_columns": null,
            "grid_template_rows": null,
            "height": "300px",
            "justify_content": null,
            "justify_items": null,
            "left": null,
            "margin": null,
            "max_height": null,
            "max_width": null,
            "min_height": null,
            "min_width": null,
            "object_fit": null,
            "object_position": null,
            "order": null,
            "overflow": null,
            "overflow_x": null,
            "overflow_y": null,
            "padding": null,
            "right": null,
            "top": null,
            "visibility": null,
            "width": "50%"
          }
        },
        "c96ea27dd9004e96a94655c57925b661": {
          "model_module": "@jupyter-widgets/controls",
          "model_name": "DescriptionStyleModel",
          "model_module_version": "1.5.0",
          "state": {
            "_model_module": "@jupyter-widgets/controls",
            "_model_module_version": "1.5.0",
            "_model_name": "DescriptionStyleModel",
            "_view_count": null,
            "_view_module": "@jupyter-widgets/base",
            "_view_module_version": "1.2.0",
            "_view_name": "StyleView",
            "description_width": "initial"
          }
        },
        "4137cfd99808455b89e80f54f4babb30": {
          "model_module": "@jupyter-widgets/controls",
          "model_name": "ButtonModel",
          "model_module_version": "1.5.0",
          "state": {
            "_dom_classes": [],
            "_model_module": "@jupyter-widgets/controls",
            "_model_module_version": "1.5.0",
            "_model_name": "ButtonModel",
            "_view_count": null,
            "_view_module": "@jupyter-widgets/controls",
            "_view_module_version": "1.5.0",
            "_view_name": "ButtonView",
            "button_style": "success",
            "description": "Submit",
            "disabled": false,
            "icon": "",
            "layout": "IPY_MODEL_259eb9664b1d4ea5a6d2af4a632628cf",
            "style": "IPY_MODEL_057911c8ff9c4057a1948dcd2ec08ba2",
            "tooltip": ""
          }
        },
        "259eb9664b1d4ea5a6d2af4a632628cf": {
          "model_module": "@jupyter-widgets/base",
          "model_name": "LayoutModel",
          "model_module_version": "1.2.0",
          "state": {
            "_model_module": "@jupyter-widgets/base",
            "_model_module_version": "1.2.0",
            "_model_name": "LayoutModel",
            "_view_count": null,
            "_view_module": "@jupyter-widgets/base",
            "_view_module_version": "1.2.0",
            "_view_name": "LayoutView",
            "align_content": null,
            "align_items": null,
            "align_self": null,
            "border": null,
            "bottom": null,
            "display": null,
            "flex": null,
            "flex_flow": null,
            "grid_area": null,
            "grid_auto_columns": null,
            "grid_auto_flow": null,
            "grid_auto_rows": null,
            "grid_column": null,
            "grid_gap": null,
            "grid_row": null,
            "grid_template_areas": null,
            "grid_template_columns": null,
            "grid_template_rows": null,
            "height": null,
            "justify_content": null,
            "justify_items": null,
            "left": null,
            "margin": null,
            "max_height": null,
            "max_width": null,
            "min_height": null,
            "min_width": null,
            "object_fit": null,
            "object_position": null,
            "order": null,
            "overflow": null,
            "overflow_x": null,
            "overflow_y": null,
            "padding": null,
            "right": null,
            "top": null,
            "visibility": null,
            "width": null
          }
        },
        "057911c8ff9c4057a1948dcd2ec08ba2": {
          "model_module": "@jupyter-widgets/controls",
          "model_name": "ButtonStyleModel",
          "model_module_version": "1.5.0",
          "state": {
            "_model_module": "@jupyter-widgets/controls",
            "_model_module_version": "1.5.0",
            "_model_name": "ButtonStyleModel",
            "_view_count": null,
            "_view_module": "@jupyter-widgets/base",
            "_view_module_version": "1.2.0",
            "_view_name": "StyleView",
            "button_color": null,
            "font_weight": ""
          }
        },
        "2507e93f11fc457f92d00bac88dee83c": {
          "model_module": "@jupyter-widgets/controls",
          "model_name": "LabelModel",
          "model_module_version": "1.5.0",
          "state": {
            "_dom_classes": [],
            "_model_module": "@jupyter-widgets/controls",
            "_model_module_version": "1.5.0",
            "_model_name": "LabelModel",
            "_view_count": null,
            "_view_module": "@jupyter-widgets/controls",
            "_view_module_version": "1.5.0",
            "_view_name": "LabelView",
            "description": "",
            "description_tooltip": null,
            "layout": "IPY_MODEL_571fb6e38fce4fca980675bf458bac33",
            "placeholder": "​",
            "style": "IPY_MODEL_ba7b3bc592f54eeca9dfd3a71089594c",
            "value": "✅ Looks human written to me!"
          }
        },
        "571fb6e38fce4fca980675bf458bac33": {
          "model_module": "@jupyter-widgets/base",
          "model_name": "LayoutModel",
          "model_module_version": "1.2.0",
          "state": {
            "_model_module": "@jupyter-widgets/base",
            "_model_module_version": "1.2.0",
            "_model_name": "LayoutModel",
            "_view_count": null,
            "_view_module": "@jupyter-widgets/base",
            "_view_module_version": "1.2.0",
            "_view_name": "LayoutView",
            "align_content": null,
            "align_items": null,
            "align_self": null,
            "border": null,
            "bottom": null,
            "display": null,
            "flex": null,
            "flex_flow": null,
            "grid_area": null,
            "grid_auto_columns": null,
            "grid_auto_flow": null,
            "grid_auto_rows": null,
            "grid_column": null,
            "grid_gap": null,
            "grid_row": null,
            "grid_template_areas": null,
            "grid_template_columns": null,
            "grid_template_rows": null,
            "height": "30px",
            "justify_content": null,
            "justify_items": null,
            "left": null,
            "margin": null,
            "max_height": null,
            "max_width": null,
            "min_height": null,
            "min_width": null,
            "object_fit": null,
            "object_position": null,
            "order": null,
            "overflow": null,
            "overflow_x": null,
            "overflow_y": null,
            "padding": null,
            "right": null,
            "top": null,
            "visibility": null,
            "width": null
          }
        },
        "ba7b3bc592f54eeca9dfd3a71089594c": {
          "model_module": "@jupyter-widgets/controls",
          "model_name": "DescriptionStyleModel",
          "model_module_version": "1.5.0",
          "state": {
            "_model_module": "@jupyter-widgets/controls",
            "_model_module_version": "1.5.0",
            "_model_name": "DescriptionStyleModel",
            "_view_count": null,
            "_view_module": "@jupyter-widgets/base",
            "_view_module_version": "1.2.0",
            "_view_name": "StyleView",
            "description_width": ""
          }
        }
      }
    },
    "accelerator": "GPU"
  },
  "cells": [
    {
      "cell_type": "markdown",
      "metadata": {
        "id": "view-in-github",
        "colab_type": "text"
      },
      "source": [
        "<a href=\"https://colab.research.google.com/github/Prograndma/detect_ai/blob/main/Detecting_AI.ipynb\" target=\"_parent\"><img src=\"https://colab.research.google.com/assets/colab-badge.svg\" alt=\"Open In Colab\"/></a>"
      ]
    },
    {
      "cell_type": "markdown",
      "source": [
        "# Detecting AI\n",
        "This is a general way to detect text that has been generated by a transformer based LLM. This approach is nice becaues it runs very quickly, and doesn't require any sort of fine-tuning. Using gpt2, I'm able to get good results, even on generated text from gpt4o, and even claude and gemini. Go ahead, try it!"
      ],
      "metadata": {
        "id": "WNbk0QSZzii-"
      }
    },
    {
      "cell_type": "code",
      "source": [
        "# @title Change the model and tokenizer used here, any pre-trained LLM should work. Here I use GPT2.\n",
        "%%capture\n",
        "import torch\n",
        "from transformers import AutoModelForCausalLM, AutoTokenizer\n",
        "model_name = 'gpt2'\n",
        "device = 'cuda' if torch.cuda.is_available() else 'cpu'\n",
        "tokenizer = AutoTokenizer.from_pretrained(model_name)\n",
        "tokenizer.pad_token = tokenizer.eos_token\n",
        "model = AutoModelForCausalLM.from_pretrained(model_name).to(device)\n"
      ],
      "metadata": {
        "id": "xReFj71Yz-L1",
        "cellView": "form"
      },
      "execution_count": 1,
      "outputs": []
    },
    {
      "cell_type": "code",
      "source": [
        "# @title The algorithm. Read this simple code to see what I'm doing.\n",
        "if device == 'cpu':\n",
        "    print(\"For better performance, use a GPU\")\n",
        "def prob_per_token(sequence: str, tokenizer, model, device=\"cuda\"):\n",
        "    inputs = tokenizer(sequence.strip(), return_tensors=\"pt\", truncation=True).to(device)\n",
        "\n",
        "    # Compute logits without gradient calculations\n",
        "    with torch.no_grad():\n",
        "        logits = model(**inputs).logits\n",
        "\n",
        "    # Compute probabilities\n",
        "    probs = torch.softmax(logits, dim=-1)\n",
        "\n",
        "    # Extract token IDs and calculate probabilities\n",
        "\n",
        "    seq_token_ids = inputs[\"input_ids\"][0]\n",
        "    seq_probs = probs[0, torch.arange(seq_token_ids.shape[0]), seq_token_ids]\n",
        "    token_likelihoods = seq_probs.tolist()\n",
        "\n",
        "    if len(token_likelihoods) == 0:\n",
        "        print(\"There was an error with the model\")\n",
        "        return 0.0\n",
        "    else:\n",
        "        avg_prob = sum(token_likelihoods) / len(token_likelihoods)\n",
        "        return avg_prob"
      ],
      "metadata": {
        "id": "tYExrqYOE6Is",
        "cellView": "form"
      },
      "execution_count": 2,
      "outputs": []
    },
    {
      "cell_type": "code",
      "source": [
        "# @title Importing a UI\n",
        "%%capture\n",
        "!pip install ipywidgets\n",
        "\n",
        "from IPython.display import display\n",
        "import ipywidgets as widgets"
      ],
      "metadata": {
        "id": "keLAQ8FX1JdX",
        "cellView": "form"
      },
      "execution_count": 3,
      "outputs": []
    },
    {
      "cell_type": "code",
      "source": [
        "# @title Run this (and every cell above it) to test out my AI detector!\n",
        "# Create a text area widget\n",
        "text_area = widgets.Textarea(\n",
        "    placeholder='Paste your text here...',\n",
        "    description='Input:',\n",
        "    layout=widgets.Layout(width='50%', height='300px', background='white'),\n",
        "    style={'description_width': 'initial'}\n",
        ")\n",
        "text_area.layout.border = '3px solid white'\n",
        "# Create a submit button\n",
        "submit_button = widgets.Button(\n",
        "    description='Submit',\n",
        "    button_style='success',  # Green button\n",
        ")\n",
        "\n",
        "# Create a label for messages\n",
        "message_label = widgets.Label(value='', layout=widgets.Layout(height='30px'))\n",
        "lower_threshold = 0.003821577792116015\n",
        "upper_threshold = 0.03426106060988655\n",
        "\n",
        "# Function to evaluate the input\n",
        "def evaluate_input(text):\n",
        "    # Replace this logic with your custom evaluation\n",
        "    score = prob_per_token(text, tokenizer, model, device)\n",
        "    return (score < lower_threshold) or (score > upper_threshold)\n",
        "\n",
        "# Function to handle button click\n",
        "def on_button_click(b):\n",
        "    if evaluate_input(text_area.value):\n",
        "        text_area.layout.background = 'lightgreen'\n",
        "        text_area.layout.border = '3px solid lightgreen'\n",
        "        message_label.value = \"✅ Looks human written to me!\"\n",
        "    else:\n",
        "        text_area.layout.background = 'lightcoral'\n",
        "        text_area.layout.border = '3px solid lightcoral'\n",
        "        message_label.value = \"❌ Text might be generated.\"\n",
        "\n",
        "# Function to reset the background and message when text is changed\n",
        "def on_text_change(change):\n",
        "    if len(text_area.value.split(' ')) > 800:\n",
        "      text_area.layout.background = 'yellow'\n",
        "      text_area.layout.border = '3px solid yellow'\n",
        "      message_label.value = \"⚠️ Your input is too long! It will be truncated.\"\n",
        "    else:\n",
        "      text_area.layout.background = 'white'  # Neutral background\n",
        "      text_area.layout.border = '3px solid white'\n",
        "      message_label.value = ''  # Clear the message\n",
        "\n",
        "# Attach the events\n",
        "submit_button.on_click(on_button_click)\n",
        "text_area.observe(on_text_change, names='value')\n",
        "\n",
        "# Display the widgets\n",
        "display(text_area, submit_button, message_label)"
      ],
      "metadata": {
        "colab": {
          "base_uri": "https://localhost:8080/",
          "height": 387,
          "referenced_widgets": [
            "48c42f16f7ea4388b4f6183e8b348aa3",
            "16f684aac1ea460eae8520ec6d4003b6",
            "c96ea27dd9004e96a94655c57925b661",
            "4137cfd99808455b89e80f54f4babb30",
            "259eb9664b1d4ea5a6d2af4a632628cf",
            "057911c8ff9c4057a1948dcd2ec08ba2",
            "2507e93f11fc457f92d00bac88dee83c",
            "571fb6e38fce4fca980675bf458bac33",
            "ba7b3bc592f54eeca9dfd3a71089594c"
          ]
        },
        "id": "rG9LbaWV1HTU",
        "outputId": "cc082cba-48d5-44ec-bfb5-f53cd1029863",
        "cellView": "form"
      },
      "execution_count": 4,
      "outputs": [
        {
          "output_type": "display_data",
          "data": {
            "text/plain": [
              "Textarea(value='', description='Input:', layout=Layout(border='3px solid white', height='300px', width='50%'),…"
            ],
            "application/vnd.jupyter.widget-view+json": {
              "version_major": 2,
              "version_minor": 0,
              "model_id": "48c42f16f7ea4388b4f6183e8b348aa3"
            }
          },
          "metadata": {}
        },
        {
          "output_type": "display_data",
          "data": {
            "text/plain": [
              "Button(button_style='success', description='Submit', style=ButtonStyle())"
            ],
            "application/vnd.jupyter.widget-view+json": {
              "version_major": 2,
              "version_minor": 0,
              "model_id": "4137cfd99808455b89e80f54f4babb30"
            }
          },
          "metadata": {}
        },
        {
          "output_type": "display_data",
          "data": {
            "text/plain": [
              "Label(value='', layout=Layout(height='30px'))"
            ],
            "application/vnd.jupyter.widget-view+json": {
              "version_major": 2,
              "version_minor": 0,
              "model_id": "2507e93f11fc457f92d00bac88dee83c"
            }
          },
          "metadata": {}
        }
      ]
    }
  ]
}